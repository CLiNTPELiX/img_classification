{
  "nbformat": 4,
  "nbformat_minor": 0,
  "metadata": {
    "kernelspec": {
      "language": "python",
      "display_name": "Python 3",
      "name": "python3"
    },
    "language_info": {
      "pygments_lexer": "ipython3",
      "nbconvert_exporter": "python",
      "version": "3.6.4",
      "file_extension": ".py",
      "codemirror_mode": {
        "name": "ipython",
        "version": 3
      },
      "name": "python",
      "mimetype": "text/x-python"
    },
    "colab": {
      "name": "Animal_face_transfer_pytorch.ipynb",
      "provenance": [],
      "collapsed_sections": [],
      "toc_visible": true,
      "include_colab_link": true
    },
    "accelerator": "GPU",
    "widgets": {
      "application/vnd.jupyter.widget-state+json": {
        "57d94053e0994767af93959bb031aec6": {
          "model_module": "@jupyter-widgets/controls",
          "model_name": "HBoxModel",
          "state": {
            "_view_name": "HBoxView",
            "_dom_classes": [],
            "_model_name": "HBoxModel",
            "_view_module": "@jupyter-widgets/controls",
            "_model_module_version": "1.5.0",
            "_view_count": null,
            "_view_module_version": "1.5.0",
            "box_style": "",
            "layout": "IPY_MODEL_0a6227c1f7eb46e6afb167762eaf2fac",
            "_model_module": "@jupyter-widgets/controls",
            "children": [
              "IPY_MODEL_d6db39e0e9fe4ee3b10ed8af7a8737e2",
              "IPY_MODEL_33716e7935c846a09afef57f7578b343"
            ]
          }
        },
        "0a6227c1f7eb46e6afb167762eaf2fac": {
          "model_module": "@jupyter-widgets/base",
          "model_name": "LayoutModel",
          "state": {
            "_view_name": "LayoutView",
            "grid_template_rows": null,
            "right": null,
            "justify_content": null,
            "_view_module": "@jupyter-widgets/base",
            "overflow": null,
            "_model_module_version": "1.2.0",
            "_view_count": null,
            "flex_flow": null,
            "width": null,
            "min_width": null,
            "border": null,
            "align_items": null,
            "bottom": null,
            "_model_module": "@jupyter-widgets/base",
            "top": null,
            "grid_column": null,
            "overflow_y": null,
            "overflow_x": null,
            "grid_auto_flow": null,
            "grid_area": null,
            "grid_template_columns": null,
            "flex": null,
            "_model_name": "LayoutModel",
            "justify_items": null,
            "grid_row": null,
            "max_height": null,
            "align_content": null,
            "visibility": null,
            "align_self": null,
            "height": null,
            "min_height": null,
            "padding": null,
            "grid_auto_rows": null,
            "grid_gap": null,
            "max_width": null,
            "order": null,
            "_view_module_version": "1.2.0",
            "grid_template_areas": null,
            "object_position": null,
            "object_fit": null,
            "grid_auto_columns": null,
            "margin": null,
            "display": null,
            "left": null
          }
        },
        "d6db39e0e9fe4ee3b10ed8af7a8737e2": {
          "model_module": "@jupyter-widgets/controls",
          "model_name": "FloatProgressModel",
          "state": {
            "_view_name": "ProgressView",
            "style": "IPY_MODEL_6e1445f089ff4eb7b99c146968f1cfbe",
            "_dom_classes": [],
            "description": "100%",
            "_model_name": "FloatProgressModel",
            "bar_style": "success",
            "max": 102502400,
            "_view_module": "@jupyter-widgets/controls",
            "_model_module_version": "1.5.0",
            "value": 102502400,
            "_view_count": null,
            "_view_module_version": "1.5.0",
            "orientation": "horizontal",
            "min": 0,
            "description_tooltip": null,
            "_model_module": "@jupyter-widgets/controls",
            "layout": "IPY_MODEL_fb72ada195b845e093c51ab5324f017f"
          }
        },
        "33716e7935c846a09afef57f7578b343": {
          "model_module": "@jupyter-widgets/controls",
          "model_name": "HTMLModel",
          "state": {
            "_view_name": "HTMLView",
            "style": "IPY_MODEL_78c224597538489f9152a2379b20e61d",
            "_dom_classes": [],
            "description": "",
            "_model_name": "HTMLModel",
            "placeholder": "​",
            "_view_module": "@jupyter-widgets/controls",
            "_model_module_version": "1.5.0",
            "value": " 97.8M/97.8M [02:00&lt;00:00, 848kB/s]",
            "_view_count": null,
            "_view_module_version": "1.5.0",
            "description_tooltip": null,
            "_model_module": "@jupyter-widgets/controls",
            "layout": "IPY_MODEL_daff4cb18e084c29bf7d965788ea7fae"
          }
        },
        "6e1445f089ff4eb7b99c146968f1cfbe": {
          "model_module": "@jupyter-widgets/controls",
          "model_name": "ProgressStyleModel",
          "state": {
            "_view_name": "StyleView",
            "_model_name": "ProgressStyleModel",
            "description_width": "initial",
            "_view_module": "@jupyter-widgets/base",
            "_model_module_version": "1.5.0",
            "_view_count": null,
            "_view_module_version": "1.2.0",
            "bar_color": null,
            "_model_module": "@jupyter-widgets/controls"
          }
        },
        "fb72ada195b845e093c51ab5324f017f": {
          "model_module": "@jupyter-widgets/base",
          "model_name": "LayoutModel",
          "state": {
            "_view_name": "LayoutView",
            "grid_template_rows": null,
            "right": null,
            "justify_content": null,
            "_view_module": "@jupyter-widgets/base",
            "overflow": null,
            "_model_module_version": "1.2.0",
            "_view_count": null,
            "flex_flow": null,
            "width": null,
            "min_width": null,
            "border": null,
            "align_items": null,
            "bottom": null,
            "_model_module": "@jupyter-widgets/base",
            "top": null,
            "grid_column": null,
            "overflow_y": null,
            "overflow_x": null,
            "grid_auto_flow": null,
            "grid_area": null,
            "grid_template_columns": null,
            "flex": null,
            "_model_name": "LayoutModel",
            "justify_items": null,
            "grid_row": null,
            "max_height": null,
            "align_content": null,
            "visibility": null,
            "align_self": null,
            "height": null,
            "min_height": null,
            "padding": null,
            "grid_auto_rows": null,
            "grid_gap": null,
            "max_width": null,
            "order": null,
            "_view_module_version": "1.2.0",
            "grid_template_areas": null,
            "object_position": null,
            "object_fit": null,
            "grid_auto_columns": null,
            "margin": null,
            "display": null,
            "left": null
          }
        },
        "78c224597538489f9152a2379b20e61d": {
          "model_module": "@jupyter-widgets/controls",
          "model_name": "DescriptionStyleModel",
          "state": {
            "_view_name": "StyleView",
            "_model_name": "DescriptionStyleModel",
            "description_width": "",
            "_view_module": "@jupyter-widgets/base",
            "_model_module_version": "1.5.0",
            "_view_count": null,
            "_view_module_version": "1.2.0",
            "_model_module": "@jupyter-widgets/controls"
          }
        },
        "daff4cb18e084c29bf7d965788ea7fae": {
          "model_module": "@jupyter-widgets/base",
          "model_name": "LayoutModel",
          "state": {
            "_view_name": "LayoutView",
            "grid_template_rows": null,
            "right": null,
            "justify_content": null,
            "_view_module": "@jupyter-widgets/base",
            "overflow": null,
            "_model_module_version": "1.2.0",
            "_view_count": null,
            "flex_flow": null,
            "width": null,
            "min_width": null,
            "border": null,
            "align_items": null,
            "bottom": null,
            "_model_module": "@jupyter-widgets/base",
            "top": null,
            "grid_column": null,
            "overflow_y": null,
            "overflow_x": null,
            "grid_auto_flow": null,
            "grid_area": null,
            "grid_template_columns": null,
            "flex": null,
            "_model_name": "LayoutModel",
            "justify_items": null,
            "grid_row": null,
            "max_height": null,
            "align_content": null,
            "visibility": null,
            "align_self": null,
            "height": null,
            "min_height": null,
            "padding": null,
            "grid_auto_rows": null,
            "grid_gap": null,
            "max_width": null,
            "order": null,
            "_view_module_version": "1.2.0",
            "grid_template_areas": null,
            "object_position": null,
            "object_fit": null,
            "grid_auto_columns": null,
            "margin": null,
            "display": null,
            "left": null
          }
        }
      }
    }
  },
  "cells": [
    {
      "cell_type": "markdown",
      "metadata": {
        "id": "view-in-github",
        "colab_type": "text"
      },
      "source": [
        "<a href=\"https://colab.research.google.com/github/CLiNTPELiX/img_classification/blob/main/Animal_face_transfer_pytorch.ipynb\" target=\"_parent\"><img src=\"https://colab.research.google.com/assets/colab-badge.svg\" alt=\"Open In Colab\"/></a>"
      ]
    },
    {
      "cell_type": "markdown",
      "metadata": {
        "id": "Jx2hi10Ib7Sk"
      },
      "source": [
        "### Transfer Learning with Pytorch"
      ]
    },
    {
      "cell_type": "code",
      "metadata": {
        "_uuid": "8f2839f25d086af736a60e9eeb907d3b93b6e0e5",
        "_cell_guid": "b1076dfc-b9ad-4769-8c92-a6c4dae69d19",
        "trusted": true,
        "id": "QOmyECGXb7S-"
      },
      "source": [
        "import os\n",
        "import shutil\n",
        "import numpy as np \n",
        "import pandas as pd\n",
        "import seaborn as sns\n",
        "from tqdm import tqdm\n",
        "import matplotlib.pyplot as plt\n",
        "\n",
        "import torch\n",
        "import torchvision\n",
        "from torch import nn\n",
        "import torch.optim as optim\n",
        "from torch.utils import data\n",
        "from torchvision import transforms\n",
        "import torch.nn.functional as F\n",
        "from sklearn.metrics import confusion_matrix"
      ],
      "execution_count": null,
      "outputs": []
    },
    {
      "cell_type": "code",
      "metadata": {
        "colab": {
          "base_uri": "https://localhost:8080/"
        },
        "id": "11Wq2-gccOn0",
        "outputId": "592e9863-7b16-4119-95d8-c46668cc3e01"
      },
      "source": [
        "from google.colab import drive\n",
        "drive.mount._DEBUG = True\n",
        "drive.mount('/content/gdrive', force_remount=True)"
      ],
      "execution_count": null,
      "outputs": [
        {
          "output_type": "stream",
          "text": [
            "unset HISTFILE; export PS1=\"root@0a91fe88018a-b4e72d17e3cf4e0dbb3bf98a1c005371: \"\n",
            "bash: cannot set terminal process group (-1): Inappropriate ioctl for device\n",
            "bash: no job control in this shell\n",
            "\u001b[01;34m/content\u001b[00m# root@0a91fe88018a-b4e72d17e3cf4e0dbb3bf98a1c005371: umount -f /content/gdrive || umount /content/gdrive; pkill -9 -x drive\n",
            "umount: /content/gdrive: no mount point specified.\n",
            "umount: /content/gdrive: no mount point specified.\n",
            "root@0a91fe88018a-b4e72d17e3cf4e0dbb3bf98a1c005371: pkill -9 -f /opt/google/drive/directoryprefetcher_binary\n",
            "root@0a91fe88018a-b4e72d17e3cf4e0dbb3bf98a1c005371: ( while `sleep 0.5`; do if [[ -d \"/content/gdrive\" && \"$(ls -A /content/gdrive)\" != \"\" ]]; then echo \"google.colab.drive MOUNTED\"; break; fi; done ) &\n",
            "[1] 93\n",
            "root@0a91fe88018a-b4e72d17e3cf4e0dbb3bf98a1c005371: cat /tmp/tmpo601ehtz/drive.fifo | head -1 | ( /opt/google/drive/drive --features=fuse_max_background:1000,max_read_qps:1000,max_write_qps:1000,max_operation_batch_size:15,max_parallel_push_task_instances:10,opendir_timeout_ms:120000,virtual_folders_omit_spaces:true --inet_family=IPV4_ONLY --preferences=trusted_root_certs_file_path:/opt/google/drive/roots.pem,mount_point_path:/content/gdrive --console_auth 2>&1 | grep --line-buffered -E \"(Go to this URL in a browser: https://.*)$|Drive File Stream encountered a problem and has stopped|Authorization failed|The domain policy has disabled Drive File Stream\"; echo \"drive EXITED\"; ) &\n",
            "[2] 97\n",
            "root@0a91fe88018a-b4e72d17e3cf4e0dbb3bf98a1c005371: Go to this URL in a browser: https://accounts.google.com/o/oauth2/auth?client_id=947318989803-6bn6qk8qdgf4n4g3pfee6491hc0brc4i.apps.googleusercontent.com&redirect_uri=urn%3aietf%3awg%3aoauth%3a2.0%3aoob&scope=email%20https%3a%2f%2fwww.googleapis.com%2fauth%2fdocs.test%20https%3a%2f%2fwww.googleapis.com%2fauth%2fdrive%20https%3a%2f%2fwww.googleapis.com%2fauth%2fdrive.photos.readonly%20https%3a%2f%2fwww.googleapis.com%2fauth%2fpeopleapi.readonly%20https%3a%2f%2fwww.googleapis.com%2fauth%2fdrive.activity.readonly%20https%3a%2f%2fwww.googleapis.com%2fauth%2fexperimentsandconfigs%20https%3a%2f%2fwww.googleapis.com%2fauth%2fphotos.native&response_type=code\n",
            "google.colab.drive MOUNTED\n",
            "fuser -kw \"/root/.config/Google/DriveFS/Logs/timeouts.txt\" ; rm -rf \"/root/.config/Google/DriveFS/Logs/timeouts.txt\"\n",
            "Specified filename /root/.config/Google/DriveFS/Logs/timeouts.txt does not exist.\n",
            "root@0a91fe88018a-b4e72d17e3cf4e0dbb3bf98a1c005371: nohup bash -c 'tail -n +0 -F \"/root/.config/Google/DriveFS/Logs/drive_fs.txt\" | python3 /opt/google/drive/drive-filter.py > \"/root/.config/Google/DriveFS/Logs/timeouts.txt\" ' < /dev/null > /dev/null 2>&1 &\n",
            "[3] 232\n",
            "root@0a91fe88018a-b4e72d17e3cf4e0dbb3bf98a1c005371: disown -a\n",
            "root@0a91fe88018a-b4e72d17e3cf4e0dbb3bf98a1c005371: exit\n",
            "Mounted at /content/gdrive\n"
          ],
          "name": "stdout"
        }
      ]
    },
    {
      "cell_type": "code",
      "metadata": {
        "id": "yvJWKmj-rv0O"
      },
      "source": [
        "root_path = 'gdrive/My Drive/Formation/Simplon/Classif_img_CNN/datas/'"
      ],
      "execution_count": null,
      "outputs": []
    },
    {
      "cell_type": "code",
      "metadata": {
        "colab": {
          "base_uri": "https://localhost:8080/",
          "height": 35
        },
        "id": "1uG0wdNicjZu",
        "outputId": "40899254-c0ee-4596-8cc7-adf3908d8a49"
      },
      "source": [
        "file = ''.join(root_path+'AnimalFace.zip')\n",
        "file"
      ],
      "execution_count": null,
      "outputs": [
        {
          "output_type": "execute_result",
          "data": {
            "application/vnd.google.colaboratory.intrinsic+json": {
              "type": "string"
            },
            "text/plain": [
              "'gdrive/My Drive/Formation/Simplon/Classif_img_CNN/datas/AnimalFace.zip'"
            ]
          },
          "metadata": {
            "tags": []
          },
          "execution_count": 4
        }
      ]
    },
    {
      "cell_type": "code",
      "metadata": {
        "id": "XW--EFebcmoh"
      },
      "source": [
        "!mkdir datas\n",
        "import zipfile\n",
        "with zipfile.ZipFile(file, \"r\") as zip_ref:\n",
        "    zip_ref.extractall(\"datas\")"
      ],
      "execution_count": null,
      "outputs": []
    },
    {
      "cell_type": "code",
      "metadata": {
        "id": "QMBwJR48FdGY"
      },
      "source": [
        "IMG_SIZE = 128"
      ],
      "execution_count": null,
      "outputs": []
    },
    {
      "cell_type": "code",
      "metadata": {
        "trusted": true,
        "id": "-hkTjPdab7TD"
      },
      "source": [
        "# train folders\n",
        "os.mkdir('/content/datas/train/')\n",
        "for img_class in os.listdir(\"/content/datas/Image\"):\n",
        "    os.mkdir('/content/datas/train/' + img_class[:-4] + '/')"
      ],
      "execution_count": null,
      "outputs": []
    },
    {
      "cell_type": "code",
      "metadata": {
        "trusted": true,
        "id": "CzTYtXXlb7TG"
      },
      "source": [
        "# test folders\n",
        "os.mkdir('/content/datas/test/')\n",
        "for img_class in os.listdir(\"/content/datas/Image\"):\n",
        "    os.mkdir('/content/datas/test/' + img_class[:-4] + '/')"
      ],
      "execution_count": null,
      "outputs": []
    },
    {
      "cell_type": "code",
      "metadata": {
        "trusted": true,
        "colab": {
          "base_uri": "https://localhost:8080/"
        },
        "id": "lk-JOEK1b7TK",
        "outputId": "bcc8857c-0c98-40fe-939e-2a8735fc0edf"
      },
      "source": [
        "# form train dataset\n",
        "for img_class in tqdm(os.listdir('/content/datas/Image/')):\n",
        "    img_ls = os.listdir('/content/datas/Image/' + img_class)\n",
        "    for img in img_ls[:int(len(img_ls) * 0.8)]:\n",
        "        shutil.copy('/content/datas/Image/' + img_class + '/' + img, \n",
        "                    '/content/datas/train/' + img_class[:-4] + '/' + img)"
      ],
      "execution_count": null,
      "outputs": [
        {
          "output_type": "stream",
          "text": [
            "100%|██████████| 21/21 [00:00<00:00, 81.25it/s]\n"
          ],
          "name": "stderr"
        }
      ]
    },
    {
      "cell_type": "code",
      "metadata": {
        "trusted": true,
        "colab": {
          "base_uri": "https://localhost:8080/"
        },
        "id": "5wBEsyy1b7TT",
        "outputId": "f0640555-2640-44cb-d4a1-140484ab85bb"
      },
      "source": [
        "# form test dataset\n",
        "for img_class in tqdm(os.listdir('/content/datas/Image/')):\n",
        "    img_ls = os.listdir('/content/datas/Image/' + img_class)\n",
        "    for img in img_ls[int(len(img_ls) * 0.8):]:\n",
        "        shutil.copy('/content/datas/Image/' + img_class + '/' + img, \n",
        "                    '/content/datas/test/' + img_class[:-4] + '/' + img)"
      ],
      "execution_count": null,
      "outputs": [
        {
          "output_type": "stream",
          "text": [
            "100%|██████████| 21/21 [00:00<00:00, 315.82it/s]\n"
          ],
          "name": "stderr"
        }
      ]
    },
    {
      "cell_type": "code",
      "metadata": {
        "trusted": true,
        "id": "wOiu1WOdb7TV"
      },
      "source": [
        "train_data_path = \"/content/datas/train/\"\n",
        "test_data_path = \"/content/datas/test/\"\n",
        "\n",
        "transform = transforms.Compose([\n",
        "    transforms.Resize((IMG_SIZE,IMG_SIZE)),\n",
        "    transforms.ToTensor(),\n",
        "    transforms.Normalize(mean=[0.485, 0.456, 0.406],\n",
        "                        std=[0.229, 0.224, 0.225])\n",
        "    ])\n",
        "\n",
        "# this function get folder with images\n",
        "train_data = torchvision.datasets.ImageFolder(root=train_data_path,\n",
        "                                              transform=transform)\n",
        "\n",
        "test_data = torchvision.datasets.ImageFolder(root=test_data_path,\n",
        "                                             transform=transform)"
      ],
      "execution_count": null,
      "outputs": []
    },
    {
      "cell_type": "code",
      "metadata": {
        "trusted": true,
        "id": "dcHUkexob7TZ"
      },
      "source": [
        "batch_size=64\n",
        "train_data_loader = data.DataLoader(train_data, shuffle=True,\n",
        "                                    batch_size=batch_size)\n",
        "\n",
        "test_data_loader  = data.DataLoader(test_data, shuffle=True, \n",
        "                                    batch_size=batch_size)"
      ],
      "execution_count": null,
      "outputs": []
    },
    {
      "cell_type": "code",
      "metadata": {
        "trusted": true,
        "colab": {
          "base_uri": "https://localhost:8080/",
          "height": 99,
          "referenced_widgets": [
            "57d94053e0994767af93959bb031aec6",
            "0a6227c1f7eb46e6afb167762eaf2fac",
            "d6db39e0e9fe4ee3b10ed8af7a8737e2",
            "33716e7935c846a09afef57f7578b343",
            "6e1445f089ff4eb7b99c146968f1cfbe",
            "fb72ada195b845e093c51ab5324f017f",
            "78c224597538489f9152a2379b20e61d",
            "daff4cb18e084c29bf7d965788ea7fae"
          ]
        },
        "id": "xP66uCwmb7Tb",
        "outputId": "2869e215-cccc-4143-ce07-3733fc8147ce"
      },
      "source": [
        "from torchvision import models\n",
        "# download pretrained ResNet\n",
        "transfer_model = models.resnet50(pretrained=True)\n",
        "\n",
        "# freeze all layers in pretrained model\n",
        "for name, param in transfer_model.named_parameters():\n",
        "    param.requires_grad = False\n",
        "\n",
        "# replace last layer \n",
        "transfer_model.fc = nn.Sequential(nn.Linear(transfer_model.fc.in_features,500),\n",
        "nn.ReLU(),\n",
        "nn.Dropout(), nn.Linear(500,21)) #21 classes\n",
        "\n",
        "if torch.cuda.is_available():\n",
        "    device = torch.device(\"cuda\")\n",
        "    print(\"device : cuda (gpu)\")\n",
        "else:\n",
        "    device = torch.device(\"cpu\")\n",
        "    print(\"device : cpu\")"
      ],
      "execution_count": null,
      "outputs": [
        {
          "output_type": "stream",
          "text": [
            "Downloading: \"https://download.pytorch.org/models/resnet50-19c8e357.pth\" to /root/.cache/torch/hub/checkpoints/resnet50-19c8e357.pth\n"
          ],
          "name": "stderr"
        },
        {
          "output_type": "display_data",
          "data": {
            "application/vnd.jupyter.widget-view+json": {
              "model_id": "57d94053e0994767af93959bb031aec6",
              "version_minor": 0,
              "version_major": 2
            },
            "text/plain": [
              "HBox(children=(FloatProgress(value=0.0, max=102502400.0), HTML(value='')))"
            ]
          },
          "metadata": {
            "tags": []
          }
        },
        {
          "output_type": "stream",
          "text": [
            "\n",
            "device : cuda (gpu)\n"
          ],
          "name": "stdout"
        }
      ]
    },
    {
      "cell_type": "markdown",
      "metadata": {
        "id": "aXhKg5_Wy7-m"
      },
      "source": [
        "## C'est long... très long ... bon c'est normal le resnet a 50 couches"
      ]
    },
    {
      "cell_type": "code",
      "metadata": {
        "trusted": true,
        "colab": {
          "base_uri": "https://localhost:8080/"
        },
        "id": "MDjd0iqNb7Td",
        "outputId": "acdcce10-a137-4194-b193-cac5d118b389"
      },
      "source": [
        "model = transfer_model \n",
        "model.to(device)\n",
        "# add optimizer\n",
        "optimizer = optim.Adam(model.parameters(), lr=0.0003, amsgrad=True)\n",
        "epochs = 50\n",
        "loss_fn = torch.nn.CrossEntropyLoss()\n",
        "loss_lst, loss_val_lst = [], []\n",
        "\n",
        "for epoch in range(epochs):\n",
        "    print(\"epochs : \", epoch)\n",
        "    training_loss = 0.0\n",
        "    valid_loss = 0.0\n",
        "    model.train()\n",
        "    for batch in train_data_loader:\n",
        "        optimizer.zero_grad()\n",
        "        inputs, target = batch\n",
        "        inputs = inputs.to(device)\n",
        "        target = target.to(device)\n",
        "        output = model(inputs)\n",
        "        \n",
        "        loss = loss_fn(output, target)\n",
        "        loss.backward()\n",
        "        optimizer.step()\n",
        "        training_loss += loss.data.item()\n",
        "    loss_lst.append(training_loss)\n",
        "\n",
        "    model.eval()\n",
        "    num_correct = 0\n",
        "    num_examples = 0\n",
        "    for batch in test_data_loader:\n",
        "        inputs, targets = batch\n",
        "        inputs = inputs.to(device)\n",
        "        output = model(inputs)\n",
        "        targets = targets.to(device)\n",
        "        loss = loss_fn(output,targets)\n",
        "        valid_loss += loss.data.item()\n",
        "        correct = torch.eq(torch.max(F.softmax(output), dim=1)[1],\n",
        "                        targets).view(-1)\n",
        "        num_correct += torch.sum(correct).item()\n",
        "        num_examples += correct.shape[0]\n",
        "    loss_val_lst.append(valid_loss)\n",
        "\n",
        "    print('Epoch: {}, Training Loss: {:.2f}, \\\n",
        "        Validation Loss: {:.2f}, \\\n",
        "        accuracy = {:.2f}'.format(epoch, training_loss, \\\n",
        "        valid_loss, num_correct / num_examples))"
      ],
      "execution_count": null,
      "outputs": [
        {
          "output_type": "stream",
          "text": [
            "epochs :  0\n"
          ],
          "name": "stdout"
        },
        {
          "output_type": "stream",
          "text": [
            "/usr/local/lib/python3.7/dist-packages/ipykernel_launcher.py:37: UserWarning: Implicit dimension choice for softmax has been deprecated. Change the call to include dim=X as an argument.\n"
          ],
          "name": "stderr"
        },
        {
          "output_type": "stream",
          "text": [
            "Epoch: 0, Training Loss: 61.52,         Validation Loss: 6.93,         accuracy = 0.88\n",
            "epochs :  1\n",
            "Epoch: 1, Training Loss: 24.40,         Validation Loss: 4.27,         accuracy = 0.89\n",
            "epochs :  2\n",
            "Epoch: 2, Training Loss: 15.82,         Validation Loss: 3.33,         accuracy = 0.90\n",
            "epochs :  3\n",
            "Epoch: 3, Training Loss: 12.29,         Validation Loss: 2.75,         accuracy = 0.91\n",
            "epochs :  4\n",
            "Epoch: 4, Training Loss: 10.33,         Validation Loss: 2.40,         accuracy = 0.91\n",
            "epochs :  5\n",
            "Epoch: 5, Training Loss: 8.93,         Validation Loss: 2.30,         accuracy = 0.93\n",
            "epochs :  6\n",
            "Epoch: 6, Training Loss: 8.00,         Validation Loss: 2.29,         accuracy = 0.93\n",
            "epochs :  7\n",
            "Epoch: 7, Training Loss: 6.92,         Validation Loss: 2.05,         accuracy = 0.93\n",
            "epochs :  8\n",
            "Epoch: 8, Training Loss: 6.35,         Validation Loss: 2.20,         accuracy = 0.93\n",
            "epochs :  9\n",
            "Epoch: 9, Training Loss: 5.57,         Validation Loss: 1.88,         accuracy = 0.93\n",
            "epochs :  10\n",
            "Epoch: 10, Training Loss: 4.80,         Validation Loss: 2.01,         accuracy = 0.93\n",
            "epochs :  11\n",
            "Epoch: 11, Training Loss: 4.58,         Validation Loss: 1.88,         accuracy = 0.92\n",
            "epochs :  12\n",
            "Epoch: 12, Training Loss: 4.20,         Validation Loss: 1.99,         accuracy = 0.93\n",
            "epochs :  13\n",
            "Epoch: 13, Training Loss: 4.83,         Validation Loss: 1.88,         accuracy = 0.93\n",
            "epochs :  14\n",
            "Epoch: 14, Training Loss: 5.35,         Validation Loss: 1.91,         accuracy = 0.93\n",
            "epochs :  15\n",
            "Epoch: 15, Training Loss: 4.29,         Validation Loss: 1.85,         accuracy = 0.93\n",
            "epochs :  16\n",
            "Epoch: 16, Training Loss: 3.46,         Validation Loss: 1.72,         accuracy = 0.94\n",
            "epochs :  17\n",
            "Epoch: 17, Training Loss: 2.68,         Validation Loss: 1.70,         accuracy = 0.94\n",
            "epochs :  18\n",
            "Epoch: 18, Training Loss: 2.76,         Validation Loss: 1.79,         accuracy = 0.92\n",
            "epochs :  19\n",
            "Epoch: 19, Training Loss: 2.44,         Validation Loss: 1.72,         accuracy = 0.93\n",
            "epochs :  20\n",
            "Epoch: 20, Training Loss: 2.59,         Validation Loss: 1.80,         accuracy = 0.93\n",
            "epochs :  21\n",
            "Epoch: 21, Training Loss: 2.55,         Validation Loss: 1.89,         accuracy = 0.94\n",
            "epochs :  22\n",
            "Epoch: 22, Training Loss: 3.01,         Validation Loss: 1.76,         accuracy = 0.93\n",
            "epochs :  23\n",
            "Epoch: 23, Training Loss: 2.59,         Validation Loss: 1.79,         accuracy = 0.93\n",
            "epochs :  24\n",
            "Epoch: 24, Training Loss: 3.08,         Validation Loss: 1.87,         accuracy = 0.92\n",
            "epochs :  25\n",
            "Epoch: 25, Training Loss: 2.46,         Validation Loss: 1.81,         accuracy = 0.92\n",
            "epochs :  26\n",
            "Epoch: 26, Training Loss: 2.60,         Validation Loss: 1.63,         accuracy = 0.93\n",
            "epochs :  27\n",
            "Epoch: 27, Training Loss: 3.15,         Validation Loss: 1.58,         accuracy = 0.94\n",
            "epochs :  28\n",
            "Epoch: 28, Training Loss: 1.95,         Validation Loss: 1.80,         accuracy = 0.93\n",
            "epochs :  29\n",
            "Epoch: 29, Training Loss: 1.99,         Validation Loss: 1.71,         accuracy = 0.94\n",
            "epochs :  30\n",
            "Epoch: 30, Training Loss: 1.75,         Validation Loss: 1.74,         accuracy = 0.94\n",
            "epochs :  31\n",
            "Epoch: 31, Training Loss: 2.00,         Validation Loss: 1.72,         accuracy = 0.93\n",
            "epochs :  32\n",
            "Epoch: 32, Training Loss: 1.61,         Validation Loss: 1.92,         accuracy = 0.93\n",
            "epochs :  33\n",
            "Epoch: 33, Training Loss: 2.01,         Validation Loss: 1.79,         accuracy = 0.92\n",
            "epochs :  34\n",
            "Epoch: 34, Training Loss: 1.44,         Validation Loss: 1.79,         accuracy = 0.93\n",
            "epochs :  35\n",
            "Epoch: 35, Training Loss: 1.49,         Validation Loss: 1.84,         accuracy = 0.92\n",
            "epochs :  36\n",
            "Epoch: 36, Training Loss: 1.69,         Validation Loss: 1.77,         accuracy = 0.93\n",
            "epochs :  37\n",
            "Epoch: 37, Training Loss: 1.56,         Validation Loss: 1.87,         accuracy = 0.92\n",
            "epochs :  38\n",
            "Epoch: 38, Training Loss: 1.58,         Validation Loss: 1.92,         accuracy = 0.92\n",
            "epochs :  39\n",
            "Epoch: 39, Training Loss: 2.11,         Validation Loss: 1.75,         accuracy = 0.93\n",
            "epochs :  40\n",
            "Epoch: 40, Training Loss: 1.41,         Validation Loss: 1.68,         accuracy = 0.93\n",
            "epochs :  41\n",
            "Epoch: 41, Training Loss: 1.28,         Validation Loss: 1.72,         accuracy = 0.93\n",
            "epochs :  42\n",
            "Epoch: 42, Training Loss: 0.98,         Validation Loss: 1.67,         accuracy = 0.93\n",
            "epochs :  43\n",
            "Epoch: 43, Training Loss: 0.72,         Validation Loss: 1.88,         accuracy = 0.93\n",
            "epochs :  44\n",
            "Epoch: 44, Training Loss: 1.60,         Validation Loss: 1.64,         accuracy = 0.92\n",
            "epochs :  45\n",
            "Epoch: 45, Training Loss: 1.94,         Validation Loss: 1.91,         accuracy = 0.92\n",
            "epochs :  46\n",
            "Epoch: 46, Training Loss: 1.62,         Validation Loss: 1.78,         accuracy = 0.92\n",
            "epochs :  47\n",
            "Epoch: 47, Training Loss: 1.74,         Validation Loss: 1.70,         accuracy = 0.92\n",
            "epochs :  48\n",
            "Epoch: 48, Training Loss: 1.57,         Validation Loss: 1.95,         accuracy = 0.92\n",
            "epochs :  49\n",
            "Epoch: 49, Training Loss: 1.92,         Validation Loss: 1.87,         accuracy = 0.92\n"
          ],
          "name": "stdout"
        }
      ]
    },
    {
      "cell_type": "code",
      "metadata": {
        "trusted": true,
        "colab": {
          "base_uri": "https://localhost:8080/",
          "height": 497
        },
        "id": "AGM216FBb7Tg",
        "outputId": "3b0a1249-61d9-49dd-cb42-6da46a009476"
      },
      "source": [
        "plt.figure(figsize=[12, 8])\n",
        "plt.plot(range(len(loss_lst)), loss_lst);\n",
        "plt.plot(range(len(loss_val_lst)), loss_val_lst);\n",
        "plt.xlabel('epochs');\n",
        "plt.ylabel('loss');"
      ],
      "execution_count": null,
      "outputs": [
        {
          "output_type": "display_data",
          "data": {
            "image/png": "[encoded data removed]",
            "text/plain": [
              "<Figure size 864x576 with 1 Axes>"
            ]
          },
          "metadata": {
            "tags": [],
            "needs_background": "light"
          }
        }
      ]
    },
    {
      "cell_type": "code",
      "metadata": {
        "id": "YPvSjG4HxSzP"
      },
      "source": [
        "file = \"/content/gdrive/MyDrive/Formation/Simplon/brief15/model.pt\"\n",
        "# SAve\n",
        "torch.save(model.state_dict(), file)"
      ],
      "execution_count": null,
      "outputs": []
    },
    {
      "cell_type": "markdown",
      "metadata": {
        "id": "6p2EobZIb7Tt"
      },
      "source": [
        "### Confusion matrix"
      ]
    },
    {
      "cell_type": "code",
      "metadata": {
        "trusted": true,
        "colab": {
          "base_uri": "https://localhost:8080/"
        },
        "id": "r0BIZ3-ob7Tu",
        "outputId": "0be88bc8-2a69-4631-91ad-332811b040fb"
      },
      "source": [
        "all_output = np.array([])\n",
        "all_targets = np.array([])\n",
        "\n",
        "for batch in tqdm(test_data_loader):\n",
        "    inputs, targets = batch\n",
        "    inputs = inputs.to(device)\n",
        "    output = model(inputs)\n",
        "    all_output = np.concatenate([all_output, output.max(dim=1).indices.cpu().numpy()])\n",
        "    all_targets = np.concatenate([all_targets, targets.numpy()])"
      ],
      "execution_count": null,
      "outputs": [
        {
          "output_type": "stream",
          "text": [
            "100%|██████████| 8/8 [00:02<00:00,  3.70it/s]\n"
          ],
          "name": "stderr"
        }
      ]
    },
    {
      "cell_type": "code",
      "metadata": {
        "trusted": true,
        "colab": {
          "base_uri": "https://localhost:8080/",
          "height": 428
        },
        "id": "NVwMjiFFb7Tw",
        "outputId": "873077f8-0c4f-4294-e6cb-3cf5f8b7a7fb"
      },
      "source": [
        "# plot confusion matrix\n",
        "conf_matr = confusion_matrix(all_output, \n",
        "                             all_targets)\n",
        "plt.figure(figsize = (10,7))\n",
        "sns.heatmap(conf_matr, annot=True);"
      ],
      "execution_count": null,
      "outputs": [
        {
          "output_type": "display_data",
          "data": {
            "image/png": "[encoded data removed]",
            "text/plain": [
              "<Figure size 720x504 with 2 Axes>"
            ]
          },
          "metadata": {
            "tags": [],
            "needs_background": "light"
          }
        }
      ]
    },
    {
      "cell_type": "code",
      "metadata": {
        "colab": {
          "resources": {
            "http://localhost:8080/nbextensions/google.colab/files.js": {
              "data": "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",
              "ok": true,
              "headers": [
                [
                  "content-type",
                  "application/javascript"
                ]
              ],
              "status": 200,
              "status_text": ""
            }
          },
          "base_uri": "https://localhost:8080/",
          "height": 90
        },
        "id": "G-jrrnEysAfS",
        "outputId": "e8de1680-8430-411a-f3c7-7eb36f45bc73"
      },
      "source": [
        "from skimage.transform import resize\n",
        "from google.colab import files\n",
        "image = files.upload()\n",
        "print(image.keys())\n",
        "for k, v in image.items(): pass"
      ],
      "execution_count": null,
      "outputs": [
        {
          "output_type": "display_data",
          "data": {
            "text/html": [
              "\n",
              "     <input type=\"file\" id=\"files-3a0c3437-c5bb-425a-ad43-aafe6e3821fe\" name=\"files[]\" multiple disabled\n",
              "        style=\"border:none\" />\n",
              "     <output id=\"result-3a0c3437-c5bb-425a-ad43-aafe6e3821fe\">\n",
              "      Upload widget is only available when the cell has been executed in the\n",
              "      current browser session. Please rerun this cell to enable.\n",
              "      </output>\n",
              "      <script src=\"/nbextensions/google.colab/files.js\"></script> "
            ],
            "text/plain": [
              "<IPython.core.display.HTML object>"
            ]
          },
          "metadata": {
            "tags": []
          }
        },
        {
          "output_type": "stream",
          "text": [
            "Saving thumbnail_C360_20210308-223501-42.jpg to thumbnail_C360_20210308-223501-42 (1).jpg\n",
            "dict_keys(['thumbnail_C360_20210308-223501-42.jpg'])\n"
          ],
          "name": "stdout"
        }
      ]
    },
    {
      "cell_type": "code",
      "metadata": {
        "colab": {
          "base_uri": "https://localhost:8080/",
          "height": 265
        },
        "id": "ZSd8O5LYEuMw",
        "outputId": "e8af7bfd-1469-4642-b42d-0647bc82a40e"
      },
      "source": [
        "from skimage.io import imread\n",
        "from skimage.transform import resize\n",
        "im = imread(k) # 333636a798.jpeg ## fda9a545f5.jpeg\n",
        "im = resize(im, (IMG_SIZE, IMG_SIZE))\n",
        "plt.imshow(im)\n",
        "plt.axis('off')"
      ],
      "execution_count": null,
      "outputs": [
        {
          "output_type": "execute_result",
          "data": {
            "text/plain": [
              "(-0.5, 127.5, 127.5, -0.5)"
            ]
          },
          "metadata": {
            "tags": []
          },
          "execution_count": 28
        },
        {
          "output_type": "display_data",
          "data": {
            "image/png": "[encoded data removed]",
            "text/plain": [
              "<Figure size 432x288 with 1 Axes>"
            ]
          },
          "metadata": {
            "tags": [],
            "needs_background": "light"
          }
        }
      ]
    },
    {
      "cell_type": "code",
      "metadata": {
        "colab": {
          "base_uri": "https://localhost:8080/"
        },
        "id": "x-dZPOTkz-Ks",
        "outputId": "9ee30d28-7e57-4c69-8181-c2e6f7e48ad8"
      },
      "source": [
        "from torch.autograd import Variable\n",
        "from PIL import Image\n",
        "\n",
        "class_names = train_data.classes\n",
        "\n",
        "# An instance of your model.\n",
        "img_pil = Image.open(k)\n",
        "#img_pil.show()\n",
        "img_tensor = transform(img_pil).float()\n",
        "img_tensor = img_tensor.unsqueeze(0)\n",
        "img_tensor = img_tensor.cuda()\n",
        "\n",
        "fc_out = model(Variable(img_tensor))\n",
        "\n",
        "output = fc_out.cpu().detach().numpy()\n",
        "print(class_names[output.argmax()])"
      ],
      "execution_count": null,
      "outputs": [
        {
          "output_type": "stream",
          "text": [
            "Human\n"
          ],
          "name": "stdout"
        }
      ]
    },
    {
      "cell_type": "code",
      "metadata": {
        "id": "Mr9xnUFr0GZ-"
      },
      "source": [
        "# # Load a model in pytorch\n",
        "\n",
        "# model.load_state_dict(torch.load(file))\n",
        "# model.eval()"
      ],
      "execution_count": null,
      "outputs": []
    }
  ]
}